{
 "cells": [
  {
   "cell_type": "code",
   "execution_count": null,
   "metadata": {},
   "outputs": [],
   "source": [
    "import pandas as pd\n",
    "import seaborn as sb\n",
    "import numpy as np\n",
    "import matplotlib.pyplot as plt"
   ]
  },
  {
   "cell_type": "code",
   "execution_count": null,
   "metadata": {},
   "outputs": [],
   "source": [
    "# helper file written by me to get Local Authority codes from the name and vice versa\n",
    "import readLAcodes\n",
    "# helper file to read the data from a file\n",
    "from ReadAttainmentData import LA_ud"
   ]
  },
  {
   "cell_type": "code",
   "execution_count": null,
   "metadata": {},
   "outputs": [],
   "source": [
    "la_codes = readLAcodes.read_LA_codes()"
   ]
  },
  {
   "cell_type": "code",
   "execution_count": null,
   "metadata": {},
   "outputs": [],
   "source": [
    "# get the code for the Local Authority (LA) that you're interested in\n",
    "durham_code = readLAcodes.find_code(la_codes,'County Durham')\n",
    "durham_code"
   ]
  },
  {
   "cell_type": "code",
   "execution_count": null,
   "metadata": {},
   "outputs": [],
   "source": [
    "# attainment statistics broken down by LA (Local Authority)\n",
    "# I don't know what 'ud' signifies yet - probably 'underlying data'\n",
    "datapath = './data/'\n",
    "la_ud_file = 'ks2_2019_revised_la_ud.xlsx'"
   ]
  },
  {
   "cell_type": "code",
   "execution_count": null,
   "metadata": {},
   "outputs": [],
   "source": [
    "dataReader = LA_ud(datapath,la_ud_file)\n",
    "# read in the data and the meta-data\n",
    "df_la_ud, df_la_ud_meta = dataReader.read_file()"
   ]
  },
  {
   "cell_type": "code",
   "execution_count": null,
   "metadata": {},
   "outputs": [],
   "source": [
    "df_la_ud.shape"
   ]
  },
  {
   "cell_type": "code",
   "execution_count": null,
   "metadata": {},
   "outputs": [],
   "source": [
    "df_la_ud_meta.shape"
   ]
  },
  {
   "cell_type": "code",
   "execution_count": null,
   "metadata": {},
   "outputs": [],
   "source": [
    "# a long-winded way of finding names related to maths (i.e. containing \"mat\")\n",
    "# but it's the only way I know\n",
    "math_filter =[]\n",
    "for name in df_la_ud_meta['col_name']:\n",
    "    math_filter.append(\"mat\" in name)"
   ]
  },
  {
   "cell_type": "code",
   "execution_count": null,
   "metadata": {
    "scrolled": true
   },
   "outputs": [],
   "source": [
    "pd.options.display.max_colwidth = 100 # use pandas option for columns to display enough data to show all of the 'label' column\n",
    "# looking to see what the columns are for maths to see what might be interesting\n",
    "df_la_ud_meta.loc[math_filter,['col_name','label']]"
   ]
  },
  {
   "cell_type": "code",
   "execution_count": null,
   "metadata": {},
   "outputs": [],
   "source": [
    "# how many rows of data for each geographic level\n",
    "df_la_ud['geographic_level'].value_counts()"
   ]
  },
  {
   "cell_type": "code",
   "execution_count": null,
   "metadata": {
    "scrolled": true
   },
   "outputs": [],
   "source": [
    "# drop the rows that are not at local authority level\n",
    "# they have no entry in the 'new_la_code' column\n",
    "df_la_ud=df_la_ud[~df_la_ud['new_la_code'].isna()]\n",
    "\n",
    "# check that I got rid of what I thought I was above\n",
    "df_la_ud['geographic_level'].value_counts()"
   ]
  },
  {
   "cell_type": "markdown",
   "metadata": {},
   "source": [
    "## Durham Data\n",
    "\n",
    "I'm not doing anything other than looking at it and deciding what columns I'm going to use for the national data"
   ]
  },
  {
   "cell_type": "code",
   "execution_count": null,
   "metadata": {},
   "outputs": [],
   "source": [
    "# make a subset of just the Durham LA data\n",
    "# and have a look at it\n",
    "durham_filter=df_la_ud['new_la_code'] == durham_code\n",
    "durham_ud = df_la_ud.loc[durham_filter,:]\n",
    "durham_ud['breakdown'].value_counts()"
   ]
  },
  {
   "cell_type": "code",
   "execution_count": null,
   "metadata": {},
   "outputs": [],
   "source": [
    "durham_ud['free_school_meals'].value_counts()"
   ]
  },
  {
   "cell_type": "code",
   "execution_count": null,
   "metadata": {},
   "outputs": [],
   "source": [
    "# after playing around a bit looking at columns I've decided to focus on this subset for now\n",
    "columns=['new_la_code','disadvantaged','breakdown','gender','sen_provision','t_mat_elig','t_mat_exp','pt_mat_exp','t_mat_high','pt_mat_high','t_mat_notachieved','pt_mat_notachieved']"
   ]
  },
  {
   "cell_type": "code",
   "execution_count": null,
   "metadata": {},
   "outputs": [],
   "source": [
    "durham_math_ud=durham_ud[columns]"
   ]
  },
  {
   "cell_type": "code",
   "execution_count": null,
   "metadata": {},
   "outputs": [],
   "source": [
    "# a smaller subset of columns\n",
    "columns2=['new_la_code','disadvantaged','breakdown','gender','t_mat_elig','t_mat_exp','t_mat_high','t_mat_notachieved']"
   ]
  },
  {
   "cell_type": "code",
   "execution_count": null,
   "metadata": {},
   "outputs": [],
   "source": [
    "columns3 = columns2 + ['t_mat_elig','t_matscore_elig','t_matscore']\n",
    "print(columns3)"
   ]
  },
  {
   "cell_type": "code",
   "execution_count": null,
   "metadata": {
    "scrolled": false
   },
   "outputs": [],
   "source": [
    "durham_math_ud.loc[durham_math_ud['breakdown']=='school_type',columns]"
   ]
  },
  {
   "cell_type": "markdown",
   "metadata": {},
   "source": [
    "## Maths data for England"
   ]
  },
  {
   "cell_type": "code",
   "execution_count": null,
   "metadata": {},
   "outputs": [],
   "source": [
    "# get a dataset of all the relevant maths columns\n",
    "la_math_ud=df_la_ud[columns]"
   ]
  },
  {
   "cell_type": "code",
   "execution_count": null,
   "metadata": {},
   "outputs": [],
   "source": [
    "# select the data that is looking at the breakdown between disadvantaged and non-disadvantaged\n",
    "# and just look at the totals rather than the gender breakdown for now\n",
    "totals_per_la = la_math_ud.loc[(la_math_ud['breakdown']=='disadvantaged') & (la_math_ud['gender']=='Total'),:]\n",
    "# check that the filetr has worked - we should have the same amount of rows for each\n",
    "totals_per_la['disadvantaged'].value_counts()"
   ]
  },
  {
   "cell_type": "code",
   "execution_count": null,
   "metadata": {},
   "outputs": [],
   "source": [
    "totals_per_la.sort_values(by = 'new_la_code') # sort by LA to view them together here\n",
    "# this view should show two rows per Local Authority"
   ]
  },
  {
   "cell_type": "markdown",
   "metadata": {},
   "source": [
    "## look at girls vs boys data"
   ]
  },
  {
   "cell_type": "code",
   "execution_count": null,
   "metadata": {},
   "outputs": [],
   "source": [
    "# select breakdown == 'school type' because there is only 1 school type so it returns the total girls and boys for each LA\n",
    "# and group by LA code then gender\n",
    "temp2 = la_math_ud.loc[la_math_ud['breakdown']=='school_type',['new_la_code','gender','pt_mat_exp']]\n",
    "temp2=temp2.groupby(['new_la_code','gender'])\n",
    "temp2.first()"
   ]
  },
  {
   "cell_type": "code",
   "execution_count": null,
   "metadata": {},
   "outputs": [],
   "source": [
    "# select breakdown == 'school type' because there is only 1 school type so it returns the total girls and boys for each LA\n",
    "gender_totals = la_math_ud.loc[(la_math_ud['breakdown']=='school_type'),['new_la_code','gender','pt_mat_exp']]\n",
    "gender_totals.index=gender_totals['new_la_code']\n",
    "gender_totals = gender_totals.drop('new_la_code',axis=1)\n",
    "gender_totals= gender_totals.sort_index()\n",
    "#boys_totals = la_math_ud.loc[(la_math_ud['breakdown']=='school_type')&(la_math_ud['gender']=='Boys'),['new_la_code','gender','pt_mat_exp']]\n",
    "#girls_totals = la_math_ud.loc[(la_math_ud['breakdown']=='school_type')&(la_math_ud['gender']=='Girls'),['new_la_code','gender','pt_mat_exp']]\n",
    "#boys_totals"
   ]
  },
  {
   "cell_type": "code",
   "execution_count": null,
   "metadata": {},
   "outputs": [],
   "source": [
    "gender_totals_by_la=gender_totals.loc[gender_totals['gender']=='Boys']\n",
    "gender_totals_by_la"
   ]
  },
  {
   "cell_type": "code",
   "execution_count": null,
   "metadata": {},
   "outputs": [],
   "source": [
    "boys_totals = gender_totals.loc[gender_totals['gender']=='Boys']\n",
    "girls_totals = gender_totals.loc[gender_totals['gender']=='Girls']"
   ]
  },
  {
   "cell_type": "code",
   "execution_count": null,
   "metadata": {},
   "outputs": [],
   "source": [
    "gender_totals"
   ]
  },
  {
   "cell_type": "code",
   "execution_count": null,
   "metadata": {},
   "outputs": [],
   "source": [
    "boys_exp_maths = boys_totals.loc[:,'pt_mat_exp']\n",
    "\n",
    "girls_exp_maths = girls_totals.loc[:,'pt_mat_exp']\n",
    "\n",
    "assert (len(boys_exp_maths)==len(girls_exp_maths))"
   ]
  },
  {
   "cell_type": "code",
   "execution_count": null,
   "metadata": {},
   "outputs": [],
   "source": [
    "boys_exp_maths.head()"
   ]
  },
  {
   "cell_type": "code",
   "execution_count": null,
   "metadata": {},
   "outputs": [],
   "source": [
    "girls_exp_maths.head()"
   ]
  },
  {
   "cell_type": "code",
   "execution_count": null,
   "metadata": {},
   "outputs": [],
   "source": [
    "# to put both axes on same scale - get the min and max of the x and y axes\n",
    "range_min = min(boys_exp_maths.min(),girls_exp_maths.min())\n",
    "range_max = max(boys_exp_maths.max(),girls_exp_maths.max())\n",
    "# set the axes range\n",
    "#plt.xlim(range_min,range_max)\n",
    "#plt.ylim=(range_min,range_max)\n",
    "\n",
    "plt.xlabel('% girls')\n",
    "plt.ylabel('% boys')\n",
    "plt.title(' % girls vs boys gaining at least the expected level, maths',size=14)\n",
    "\n",
    "# plot an identity line\n",
    "plt.plot(np.arange(range_min,range_max),np.arange(range_min,range_max))\n",
    "\n",
    "# plot the data\n",
    "plt.scatter(girls_exp_maths,boys_exp_maths)"
   ]
  },
  {
   "cell_type": "markdown",
   "metadata": {},
   "source": [
    "### To Dos\n",
    "* Try some statistical tests to show whether there's a skew on the data - i.e. whether boys are further from the identity line than girls, or vice versa (we can see from the plot that there is)\n",
    "* Control for other variables like disadvantage/non-disadvantaged - that might account for some of the difference\n",
    "    * maybe multi regression/ANOVA\n",
    "* Look at categories other than maths"
   ]
  },
  {
   "cell_type": "code",
   "execution_count": null,
   "metadata": {},
   "outputs": [],
   "source": []
  },
  {
   "cell_type": "markdown",
   "metadata": {},
   "source": [
    "### calculate the regression line\n",
    "A regression line is maybe not particularly useful here, and you'd probably want to get rid of one or two of the outliers first, but just for practice"
   ]
  },
  {
   "cell_type": "markdown",
   "metadata": {},
   "source": [
    "#### method 1: plot with seaborn"
   ]
  },
  {
   "cell_type": "code",
   "execution_count": null,
   "metadata": {},
   "outputs": [],
   "source": [
    "#import seaborn as sns\n",
    "#sns.regplot(gender_totals_by_la[:,'Girls'],gender_totals_by_la[:,'Boys'])\n",
    "#plt.plot(np.arange(range_min,range_max),np.arange(range_min,range_max))"
   ]
  },
  {
   "cell_type": "code",
   "execution_count": null,
   "metadata": {},
   "outputs": [],
   "source": [
    "import seaborn as sns\n",
    "sns.regplot(girls_exp_maths,boys_exp_maths)\n",
    "plt.plot(np.arange(range_min,range_max),np.arange(range_min,range_max))"
   ]
  },
  {
   "cell_type": "markdown",
   "metadata": {},
   "source": [
    "#### method 2: calulate with statsmodels library"
   ]
  },
  {
   "cell_type": "code",
   "execution_count": null,
   "metadata": {},
   "outputs": [],
   "source": [
    "import statsmodels.api as sm\n",
    "import statsmodels.formula.api as smf\n",
    "import statsmodels.graphics as smg"
   ]
  },
  {
   "cell_type": "code",
   "execution_count": null,
   "metadata": {},
   "outputs": [],
   "source": [
    "X_model = sm.add_constant(girls_exp_maths.values) # add an intercept term\n",
    "# ordinary least squares linear regression\n",
    "model = sm.OLS(boys_exp_maths.values,X_model)\n",
    "results=model.fit()\n",
    "results.params, results.summary()"
   ]
  },
  {
   "cell_type": "code",
   "execution_count": null,
   "metadata": {},
   "outputs": [],
   "source": [
    "predicted_y = results.predict(X_model)\n",
    "plt.plot(girls_exp_maths.values,predicted_y)\n",
    "plt.scatter(girls_exp_maths.values,boys_exp_maths.values)\n",
    "plt.plot(np.arange(range_min,range_max),np.arange(range_min,range_max))"
   ]
  },
  {
   "cell_type": "markdown",
   "metadata": {},
   "source": [
    "#### method 3: ScikitLearn"
   ]
  },
  {
   "cell_type": "code",
   "execution_count": null,
   "metadata": {},
   "outputs": [],
   "source": [
    "import sklearn.preprocessing as skp\n",
    "import sklearn.model_selection as skm\n",
    "from sklearn.linear_model import LinearRegression"
   ]
  },
  {
   "cell_type": "code",
   "execution_count": null,
   "metadata": {},
   "outputs": [],
   "source": [
    "line_fit = LinearRegression()\n",
    "line_fit.fit(girls_exp_maths.values.reshape(-1, 1),boys_exp_maths.values.reshape(-1, 1))\n",
    "predicted = line_fit.predict(girls_exp_maths.values.reshape(-1, 1))"
   ]
  },
  {
   "cell_type": "code",
   "execution_count": null,
   "metadata": {},
   "outputs": [],
   "source": [
    "plt.plot(girls_exp_maths.values,predicted)\n",
    "plt.scatter(girls_exp_maths.values,boys_exp_maths.values)\n",
    "plt.plot(np.arange(range_min,range_max),np.arange(range_min,range_max))"
   ]
  },
  {
   "cell_type": "code",
   "execution_count": null,
   "metadata": {},
   "outputs": [],
   "source": [
    "girls_exp_maths"
   ]
  },
  {
   "cell_type": "markdown",
   "metadata": {},
   "source": [
    "### who's that outlier down at the bottom?"
   ]
  },
  {
   "cell_type": "code",
   "execution_count": null,
   "metadata": {},
   "outputs": [],
   "source": [
    "boys_exp_maths.min(),girls_exp_maths.min(),boys_exp_maths.max(),girls_exp_maths.max()"
   ]
  },
  {
   "cell_type": "code",
   "execution_count": null,
   "metadata": {},
   "outputs": [],
   "source": [
    "filter = (girls_exp_maths == girls_exp_maths.min())\n",
    "outlier_la_code= girls_exp_maths[filter].index[0]\n",
    "\n",
    "filter = la_codes['LAD17CD'] == outlier_la_code \n",
    "outlier_la_name = la_codes[filter]['LAD17NM'].values[0]"
   ]
  },
  {
   "cell_type": "code",
   "execution_count": null,
   "metadata": {},
   "outputs": [],
   "source": [
    "outlier_la_name"
   ]
  },
  {
   "cell_type": "code",
   "execution_count": null,
   "metadata": {},
   "outputs": [],
   "source": [
    "# make a subset of just this LA data\n",
    "# and have a look at it\n",
    "outlier_ud = la_math_ud.loc[la_math_ud['new_la_code'] == outlier_la_code,:]\n",
    "outlier_ud.head()"
   ]
  },
  {
   "cell_type": "markdown",
   "metadata": {},
   "source": [
    "That's a very small amout of data and there's no category for Disadvantaged girls. Maybe next, look at previous years to see if there's a trend."
   ]
  },
  {
   "cell_type": "markdown",
   "metadata": {},
   "source": [
    "## get the percentage totals of disadvantaged v advantaged"
   ]
  },
  {
   "cell_type": "code",
   "execution_count": null,
   "metadata": {},
   "outputs": [],
   "source": [
    "# get the x,y axes for expected \n",
    "# x is disadvantaged, y is not disadvantaged\n",
    "filter_disadvantaged=totals_per_la['disadvantaged']=='Disadvantaged'\n",
    "filter_nondisadvantaged=totals_per_la['disadvantaged']=='DisadvantagedAllOther'\n",
    "x_series_exp=totals_per_la.loc[filter_disadvantaged,'pt_mat_exp']\n",
    "x_series_exp.index=totals_per_la.loc[filter_disadvantaged,'new_la_code'].values\n",
    "y_series_exp=totals_per_la.loc[~filter_disadvantaged,'pt_mat_exp']\n",
    "y_series_exp.index=totals_per_la.loc[~filter_disadvantaged,'new_la_code'].values"
   ]
  },
  {
   "cell_type": "code",
   "execution_count": null,
   "metadata": {},
   "outputs": [],
   "source": [
    "assert (filter_disadvantaged ^ filter_nondisadvantaged).sum() == len(totals_per_la) # just checking my filter logic"
   ]
  },
  {
   "cell_type": "code",
   "execution_count": null,
   "metadata": {},
   "outputs": [],
   "source": [
    "x_series_exp = x_series_exp.sort_index()\n",
    "y_series_exp = y_series_exp.sort_index()"
   ]
  },
  {
   "cell_type": "code",
   "execution_count": null,
   "metadata": {},
   "outputs": [],
   "source": [
    "## do the same for above expected\n",
    "x_series_high=totals_per_la.loc[filter_disadvantaged,'pt_mat_high']\n",
    "x_series_high.index = totals_per_la.loc[filter_disadvantaged,'new_la_code'].values\n",
    "y_series_high=totals_per_la.loc[~filter_disadvantaged,'pt_mat_high']\n",
    "y_series_high.index = totals_per_la.loc[~filter_disadvantaged,'new_la_code'].values"
   ]
  },
  {
   "cell_type": "code",
   "execution_count": null,
   "metadata": {},
   "outputs": [],
   "source": [
    "x_series_high = x_series_high.sort_index()\n",
    "y_series_high = y_series_high.sort_index()"
   ]
  },
  {
   "cell_type": "code",
   "execution_count": null,
   "metadata": {},
   "outputs": [],
   "source": [
    "x_series_high"
   ]
  },
  {
   "cell_type": "code",
   "execution_count": null,
   "metadata": {},
   "outputs": [],
   "source": [
    "x_series_durham = [x_series_high[durham_code],x_series_exp[durham_code]]\n",
    "y_series_durham = [y_series_high[durham_code],y_series_exp[durham_code]]"
   ]
  },
  {
   "cell_type": "code",
   "execution_count": null,
   "metadata": {},
   "outputs": [],
   "source": [
    "x_series_durham,y_series_durham"
   ]
  },
  {
   "cell_type": "markdown",
   "metadata": {},
   "source": [
    "### find the LAs below the line on the graph"
   ]
  },
  {
   "cell_type": "code",
   "execution_count": null,
   "metadata": {},
   "outputs": [],
   "source": [
    "below_line_points = x_series_exp >= y_series_exp"
   ]
  },
  {
   "cell_type": "code",
   "execution_count": null,
   "metadata": {},
   "outputs": [],
   "source": [
    "(x_series_exp[below_line_points].values,y_series_exp[below_line_points].values)"
   ]
  },
  {
   "cell_type": "markdown",
   "metadata": {},
   "source": [
    "## plot scatter graph of disadvantage vs not\n"
   ]
  },
  {
   "cell_type": "code",
   "execution_count": null,
   "metadata": {},
   "outputs": [],
   "source": [
    "plt.figure(figsize=(10,4))\n",
    "\n",
    "# 1st plot\n",
    "plt.subplot(1, 2, 1)\n",
    "\n",
    "# set up the plot style and axes\n",
    "plt.style.use('seaborn')\n",
    "plt.xlim(left=40,right=101)\n",
    "plt.ylim(bottom=40,top=101)\n",
    "plt.xlabel('disadvantaged, %')\n",
    "plt.ylabel('not disadvantaged, %')\n",
    "plt.title('% pupils reaching expected standard by LA, maths',size=14)\n",
    "\n",
    "# plot a line to show disadvantaged == non-disadvantaged\n",
    "plt.plot(np.arange(0,101),np.arange(0,101),c='g')\n",
    "\n",
    "# plot all\n",
    "plt.scatter(x_series_exp,y_series_exp, c='r',marker='+')\n",
    "\n",
    "plt.scatter(x_series_high,y_series_high,c='y',marker='+')\n",
    "\n",
    "# plot the LAs where pt_disadvataged > pt_advantaged\n",
    "plt.scatter(x_series_exp[below_line_points],y_series_exp[below_line_points],c='y',marker='+')\n",
    "\n",
    "# plot durham\n",
    "plt.scatter(x_series_durham,y_series_durham, c='b')\n",
    "\n",
    "# 2nd plot\n",
    "plt.subplot(1,2,2)\n",
    "\n",
    "# set up the plot style and axes\n",
    "plt.style.use('seaborn')\n",
    "plt.xlim(left=0,right=40)\n",
    "plt.ylim(bottom=0,top=70)\n",
    "plt.xlabel('disadvantaged, %')\n",
    "plt.ylabel('not disadvantaged, %')\n",
    "plt.title('% pupils reaching higher standard by LA, maths',size=14)\n",
    "\n",
    "# plot an identity line to show disadvantaged == non-disadvantaged\n",
    "plt.plot(np.arange(0,101),np.arange(0,101),c='g')\n",
    "\n",
    "# plot all\n",
    "plt.scatter(x_series_high,y_series_high, c='r',marker = '+')\n",
    "\n",
    "# plot durham\n",
    "plt.scatter(x_series_durham,y_series_durham, c='b')\n",
    "\n",
    "# plot school\n"
   ]
  },
  {
   "cell_type": "code",
   "execution_count": null,
   "metadata": {},
   "outputs": [],
   "source": [
    "totals_per_la"
   ]
  },
  {
   "cell_type": "markdown",
   "metadata": {},
   "source": [
    "### bar charts\n",
    "some work to do on these\n",
    "1. pt_mat_exp column includes pt_mat_high so need to subtract\n",
    "1. I want 1 bar chart with all disadvantaged on left half and non-disadvantaged on right half\n"
   ]
  },
  {
   "cell_type": "code",
   "execution_count": null,
   "metadata": {},
   "outputs": [],
   "source": [
    "columns_bar_disad = ['pt_mat_notachieved','pt_mat_exp','pt_mat_high']\n",
    "column_names_disad=['NA_disad','EXP_disad','HIGH_disad']\n",
    "columns_bar_not = columns_bar_disad[::-1]\n",
    "column_names_not = ['NA_not','EXP_not','HIGH_not']\n",
    "\n",
    "# disadvantaged data\n",
    "df_bar = totals_per_la.loc[totals_per_la['disadvantaged']=='Disadvantaged',columns_bar_disad]\n",
    "df_bar.columns=column_names_disad\n",
    "df_bar.index = totals_per_la.loc[totals_per_la['disadvantaged']=='Disadvantaged','new_la_code']\n",
    "df_bar = df_bar.sort_index()\n",
    "\n",
    "# sort and add not disadvantaged data\n",
    "temp_df=totals_per_la.loc[totals_per_la['disadvantaged']=='DisadvantagedAllOther',columns_bar_not]\n",
    "temp_df.columns=column_names_not\n",
    "temp_df.index = totals_per_la.loc[totals_per_la['disadvantaged']=='DisadvantagedAllOther','new_la_code']\n",
    "temp_df=temp_df.sort_index()\n",
    "df_bar[columns_bar_not]=temp_df"
   ]
  },
  {
   "cell_type": "code",
   "execution_count": null,
   "metadata": {},
   "outputs": [],
   "source": [
    "df_bar"
   ]
  },
  {
   "cell_type": "code",
   "execution_count": null,
   "metadata": {},
   "outputs": [],
   "source": [
    "df_bar.iloc[0:20,0:3]"
   ]
  },
  {
   "cell_type": "code",
   "execution_count": null,
   "metadata": {},
   "outputs": [],
   "source": [
    "df_bar.iloc[0:20,0:3].plot.barh(stacked=True,alpha=0.5)"
   ]
  },
  {
   "cell_type": "code",
   "execution_count": null,
   "metadata": {},
   "outputs": [],
   "source": [
    "df_bar.iloc[0:20,3:].plot.barh(stacked=True,alpha=0.5)"
   ]
  },
  {
   "cell_type": "code",
   "execution_count": null,
   "metadata": {},
   "outputs": [],
   "source": [
    "# set up the plot style and axes\n",
    "plt.style.use('seaborn')\n",
    "plt.xlim(left=0,right=101)\n",
    "plt.ylim(bottom=0,top=101)\n",
    "plt.xlabel('disadvantaged, %')\n",
    "plt.ylabel('not disadvantaged, %')\n",
    "plt.title('% pupils reaching each level, by LA, maths',size=14)\n",
    "\n",
    "# plot a line to show disadvantaged == non-disadvantaged\n",
    "plt.plot(np.arange(0,101),np.arange(0,101),c='g')\n",
    "\n",
    "# plot all\n",
    "plt.scatter(x_series_high,y_series_high, c='r')\n",
    "\n",
    "plt.scatter(x_series_exp,y_series_exp, c='y')\n",
    "\n",
    "# plot durham\n",
    "plt.scatter(x_series_durham,y_series_durham, c='b')\n",
    "\n",
    "# could draw lines showing movement of each LA from last year"
   ]
  }
 ],
 "metadata": {
  "kernelspec": {
   "display_name": "Python 3",
   "language": "python",
   "name": "python3"
  },
  "language_info": {
   "codemirror_mode": {
    "name": "ipython",
    "version": 3
   },
   "file_extension": ".py",
   "mimetype": "text/x-python",
   "name": "python",
   "nbconvert_exporter": "python",
   "pygments_lexer": "ipython3",
   "version": "3.7.4"
  }
 },
 "nbformat": 4,
 "nbformat_minor": 2
}
